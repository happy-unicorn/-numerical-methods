{
 "cells": [
  {
   "cell_type": "markdown",
   "metadata": {},
   "source": [
    "## Required libraries"
   ]
  },
  {
   "cell_type": "code",
   "execution_count": 1,
   "metadata": {},
   "outputs": [],
   "source": [
    "import numpy as np"
   ]
  },
  {
   "cell_type": "markdown",
   "metadata": {},
   "source": [
    "## Determinant"
   ]
  },
  {
   "cell_type": "code",
   "execution_count": null,
   "metadata": {},
   "outputs": [],
   "source": [
    "def enter_data():\n",
    "    return [[float(number) for number in input().split()] for _ in range(int(input()))]\n",
    "\n",
    "\n",
    "def det(matrix):\n",
    "    if len(matrix) == 1:\n",
    "        return matrix[0][0]\n",
    "    sign, i = 1, 0\n",
    "    while i < len(matrix) and matrix[i][0] == 0:\n",
    "        i += 1\n",
    "    if i == len(matrix): \n",
    "        return 0\n",
    "    elif i != 0:\n",
    "        matrix[0], matrix[i] = matrix[i], matrix[0]\n",
    "        sign *= -1\n",
    "    for i in range(1, len(matrix)): \n",
    "        factor = (matrix[i][0] / matrix[0][0])\n",
    "        for j in range(len(matrix)): \n",
    "            matrix[i][j] -= factor * matrix[0][j]\n",
    "    return sign * matrix[0][0] * det([line[1:] for line in matrix[1:]]) \n",
    "    \n",
    "\n",
    "if __name__ == '__main__':\n",
    "    print(round(det(enter_data())))"
   ]
  }
 ],
 "metadata": {
  "kernelspec": {
   "display_name": "Python 3",
   "language": "python",
   "name": "python3"
  },
  "language_info": {
   "codemirror_mode": {
    "name": "ipython",
    "version": 3
   },
   "file_extension": ".py",
   "mimetype": "text/x-python",
   "name": "python",
   "nbconvert_exporter": "python",
   "pygments_lexer": "ipython3",
   "version": "3.7.4"
  }
 },
 "nbformat": 4,
 "nbformat_minor": 2
}
